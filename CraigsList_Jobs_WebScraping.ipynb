{
 "cells": [
  {
   "cell_type": "code",
   "execution_count": 44,
   "metadata": {},
   "outputs": [],
   "source": [
    "from bs4 import BeautifulSoup\n",
    "import requests\n",
    "import pandas as pd"
   ]
  },
  {
   "cell_type": "code",
   "execution_count": 45,
   "metadata": {},
   "outputs": [],
   "source": [
    "url = \"https://sfbay.craigslist.org/search/sof\""
   ]
  },
  {
   "cell_type": "code",
   "execution_count": 46,
   "metadata": {},
   "outputs": [
    {
     "name": "stdout",
     "output_type": "stream",
     "text": [
      "Total Jobs: 105\n"
     ]
    }
   ],
   "source": [
    "npo_jobs = {}\n",
    "job_no = 0\n",
    "while True:\n",
    "    response = requests.get(url)\n",
    "    data = response.text\n",
    "    soup = BeautifulSoup(data,'html.parser')\n",
    "    jobs = soup.find_all(\"p\",{\"class\":\"result-info\"})\n",
    "    \n",
    "    for job in jobs:\n",
    "        title = job.find('a',{'class':'result-title'}).text\n",
    "        location_tag = job.find('span',{'class':'result-hood'})\n",
    "        location = location_tag.text[2:-1] if location_tag else \"N/A\"\n",
    "        date = job.find('time',{'class':'result-date'}).text\n",
    "        link = job.find('a',{'class':'result-title'}).get('href')\n",
    "        job_response = requests.get(link)\n",
    "        job_data = job_response.text\n",
    "        job_soup = BeautifulSoup(job_data,'html.parser')\n",
    "        job_description = job_soup.find('section',{'id':'postingbody'}).text\n",
    "        job_attributes_tag = job_soup.find('p',{'class':'attrgroup'})\n",
    "        job_attributes = job_attributes_tag.text if job_attributes_tag else 'N/A'\n",
    "        \n",
    "        job_no+=1\n",
    "        npo_jobs[job_no] = [title,location,date,link,job_attributes,job_description]\n",
    "        #print('Job Title:', title, '\\nLocation:',location,'\\nDate:',date,'\\nLink:',link, '\\nJob Attributes:', job_attributes,'\\nJob Description:',job_description,'\\n---')\n",
    "    url_tag = soup.find('a',{'title':'next page'})\n",
    "    if(url_tag.get('href')):\n",
    "        url = 'https://sfbay.craigslist.org' + url_tag.get('href')\n",
    "        print(url)\n",
    "    else:\n",
    "        break\n",
    "print(\"Total Jobs:\",job_no)\n",
    "npo_df = pd.DataFrame.from_dict(npo_jobs,orient='index',columns = ['Job Title','Location','Date','Link','Job Attributes','Job Description'])"
   ]
  },
  {
   "cell_type": "code",
   "execution_count": 47,
   "metadata": {},
   "outputs": [
    {
     "data": {
      "text/html": [
       "<div>\n",
       "<style scoped>\n",
       "    .dataframe tbody tr th:only-of-type {\n",
       "        vertical-align: middle;\n",
       "    }\n",
       "\n",
       "    .dataframe tbody tr th {\n",
       "        vertical-align: top;\n",
       "    }\n",
       "\n",
       "    .dataframe thead th {\n",
       "        text-align: right;\n",
       "    }\n",
       "</style>\n",
       "<table border=\"1\" class=\"dataframe\">\n",
       "  <thead>\n",
       "    <tr style=\"text-align: right;\">\n",
       "      <th></th>\n",
       "      <th>Job Title</th>\n",
       "      <th>Location</th>\n",
       "      <th>Date</th>\n",
       "      <th>Link</th>\n",
       "      <th>Job Attributes</th>\n",
       "      <th>Job Description</th>\n",
       "    </tr>\n",
       "  </thead>\n",
       "  <tbody>\n",
       "    <tr>\n",
       "      <td>1</td>\n",
       "      <td>Help create a radical Internet Therapy!</td>\n",
       "      <td>berkeley</td>\n",
       "      <td>Jul 17</td>\n",
       "      <td>https://sfbay.craigslist.org/eby/sof/d/berkele...</td>\n",
       "      <td>\\ncompensation: $30-$90/hr\\n\\nemployment type:...</td>\n",
       "      <td>\\n\\nQR Code Link to This Post\\n\\n\\nWe are hiri...</td>\n",
       "    </tr>\n",
       "    <tr>\n",
       "      <td>2</td>\n",
       "      <td>Experienced C/C++ Programmer</td>\n",
       "      <td>santa rosa</td>\n",
       "      <td>Jul 16</td>\n",
       "      <td>https://sfbay.craigslist.org/nby/sof/d/santa-r...</td>\n",
       "      <td>\\ncompensation: 60k-85k\\n\\nemployment type: fu...</td>\n",
       "      <td>\\n\\nQR Code Link to This Post\\n\\n\\nWe are a so...</td>\n",
       "    </tr>\n",
       "    <tr>\n",
       "      <td>3</td>\n",
       "      <td>PCB design engineer for security startup</td>\n",
       "      <td>San Francisco &amp; remote</td>\n",
       "      <td>Jul 15</td>\n",
       "      <td>https://sfbay.craigslist.org/sfc/sof/d/san-fra...</td>\n",
       "      <td>\\ncompensation: Equity only until funding, you...</td>\n",
       "      <td>\\n\\nQR Code Link to This Post\\n\\n\\nSkills requ...</td>\n",
       "    </tr>\n",
       "    <tr>\n",
       "      <td>4</td>\n",
       "      <td>Data Science Fellowship</td>\n",
       "      <td>N/A</td>\n",
       "      <td>Jul 15</td>\n",
       "      <td>https://sfbay.craigslist.org/sfc/sof/d/san-fra...</td>\n",
       "      <td>\\ncompensation: 80,000-160,000\\n\\nemployment t...</td>\n",
       "      <td>\\n\\nQR Code Link to This Post\\n\\n\\nWhat is Pat...</td>\n",
       "    </tr>\n",
       "    <tr>\n",
       "      <td>5</td>\n",
       "      <td>Product Management Fellowship</td>\n",
       "      <td>N/A</td>\n",
       "      <td>Jul 15</td>\n",
       "      <td>https://sfbay.craigslist.org/sfc/sof/d/san-fra...</td>\n",
       "      <td>\\ncompensation: 80,000-160,000\\n\\nemployment t...</td>\n",
       "      <td>\\n\\nQR Code Link to This Post\\n\\n\\nWhat is Pat...</td>\n",
       "    </tr>\n",
       "  </tbody>\n",
       "</table>\n",
       "</div>"
      ],
      "text/plain": [
       "                                  Job Title                Location    Date  \\\n",
       "1   Help create a radical Internet Therapy!                berkeley  Jul 17   \n",
       "2              Experienced C/C++ Programmer              santa rosa  Jul 16   \n",
       "3  PCB design engineer for security startup  San Francisco & remote  Jul 15   \n",
       "4                   Data Science Fellowship                     N/A  Jul 15   \n",
       "5             Product Management Fellowship                     N/A  Jul 15   \n",
       "\n",
       "                                                Link  \\\n",
       "1  https://sfbay.craigslist.org/eby/sof/d/berkele...   \n",
       "2  https://sfbay.craigslist.org/nby/sof/d/santa-r...   \n",
       "3  https://sfbay.craigslist.org/sfc/sof/d/san-fra...   \n",
       "4  https://sfbay.craigslist.org/sfc/sof/d/san-fra...   \n",
       "5  https://sfbay.craigslist.org/sfc/sof/d/san-fra...   \n",
       "\n",
       "                                      Job Attributes  \\\n",
       "1  \\ncompensation: $30-$90/hr\\n\\nemployment type:...   \n",
       "2  \\ncompensation: 60k-85k\\n\\nemployment type: fu...   \n",
       "3  \\ncompensation: Equity only until funding, you...   \n",
       "4  \\ncompensation: 80,000-160,000\\n\\nemployment t...   \n",
       "5  \\ncompensation: 80,000-160,000\\n\\nemployment t...   \n",
       "\n",
       "                                     Job Description  \n",
       "1  \\n\\nQR Code Link to This Post\\n\\n\\nWe are hiri...  \n",
       "2  \\n\\nQR Code Link to This Post\\n\\n\\nWe are a so...  \n",
       "3  \\n\\nQR Code Link to This Post\\n\\n\\nSkills requ...  \n",
       "4  \\n\\nQR Code Link to This Post\\n\\n\\nWhat is Pat...  \n",
       "5  \\n\\nQR Code Link to This Post\\n\\n\\nWhat is Pat...  "
      ]
     },
     "execution_count": 47,
     "metadata": {},
     "output_type": "execute_result"
    }
   ],
   "source": [
    "npo_df.head()"
   ]
  },
  {
   "cell_type": "code",
   "execution_count": 49,
   "metadata": {},
   "outputs": [],
   "source": [
    "npo_df.to_csv('npo_jobs.csv')"
   ]
  },
  {
   "cell_type": "code",
   "execution_count": null,
   "metadata": {},
   "outputs": [],
   "source": []
  }
 ],
 "metadata": {
  "kernelspec": {
   "display_name": "Python 3",
   "language": "python",
   "name": "python3"
  },
  "language_info": {
   "codemirror_mode": {
    "name": "ipython",
    "version": 3
   },
   "file_extension": ".py",
   "mimetype": "text/x-python",
   "name": "python",
   "nbconvert_exporter": "python",
   "pygments_lexer": "ipython3",
   "version": "3.7.4"
  }
 },
 "nbformat": 4,
 "nbformat_minor": 2
}
